{
  "nbformat": 4,
  "nbformat_minor": 0,
  "metadata": {
    "colab": {
      "provenance": [],
      "include_colab_link": true
    },
    "kernelspec": {
      "name": "python3",
      "display_name": "Python 3"
    },
    "language_info": {
      "name": "python"
    }
  },
  "cells": [
    {
      "cell_type": "markdown",
      "metadata": {
        "id": "view-in-github",
        "colab_type": "text"
      },
      "source": [
        "<a href=\"https://colab.research.google.com/github/amoyag/ExData_Plotting1/blob/master/nb_caffeine_mod_for_AFL.ipynb\" target=\"_parent\"><img src=\"https://colab.research.google.com/assets/colab-badge.svg\" alt=\"Open In Colab\"/></a>"
      ]
    },
    {
      "cell_type": "code",
      "source": [
        "!pip install pyrosettacolabsetup\n",
        "import pyrosettacolabsetup; pyrosettacolabsetup.install_pyrosetta()\n",
        "import pyrosetta; pyrosetta.init()\n",
        "from pyrosetta import *\n",
        "import sys\n",
        "import matplotlib\n",
        "init()"
      ],
      "metadata": {
        "colab": {
          "base_uri": "https://localhost:8080/"
        },
        "id": "snzUENFAbaeM",
        "outputId": "c76b896f-5f93-40fe-a665-0943a199b90f"
      },
      "execution_count": null,
      "outputs": [
        {
          "output_type": "stream",
          "name": "stdout",
          "text": [
            "Collecting pyrosettacolabsetup\n",
            "  Downloading pyrosettacolabsetup-1.0.9-py3-none-any.whl (4.9 kB)\n"
          ]
        }
      ]
    },
    {
      "cell_type": "code",
      "source": [
        "from google.colab import drive\n",
        "import os\n",
        "\n",
        "drive.flush_and_unmount()\n",
        "\n",
        "drive.mount('/content/drive')\n",
        "\n",
        "path = '/content/drive/MyDrive/nb_caffeine_mod_for_AFL/Inputs/aftNb_start.pdb'\n",
        "path_aft = '/content/drive/MyDrive/nb_caffeine_mod_for_AFL/Inputs/aft.sdf'\n",
        "path_params = '/content/drive/MyDrive/nb_caffeine_mod_for_AFL/Inputs/AFT.params'\n",
        "drive_path = '/content/drive/MyDrive/nb_caffeine_mod_for_AFL/Inputs'\n"
      ],
      "metadata": {
        "id": "5EC-CS--cFRG",
        "colab": {
          "base_uri": "https://localhost:8080/"
        },
        "outputId": "d4e75f00-bd4c-4ac1-cb1e-978abf8bb5f6"
      },
      "execution_count": null,
      "outputs": [
        {
          "output_type": "stream",
          "name": "stdout",
          "text": [
            "Mounted at /content/drive\n"
          ]
        }
      ]
    },
    {
      "cell_type": "code",
      "source": [
        "pose = pose_from_pdb(path)\n",
        "\n"
      ],
      "metadata": {
        "id": "2wK7CNpCciw5",
        "colab": {
          "base_uri": "https://localhost:8080/"
        },
        "outputId": "1b8a81ce-eca2-44d3-e1c7-50345338b08d"
      },
      "execution_count": null,
      "outputs": [
        {
          "output_type": "stream",
          "name": "stdout",
          "text": [
            "core.import_pose.import_pose: File '/content/drive/MyDrive/nb_caffeine_mod_for_AFL/Inputs/aftNb_start.pdb' automatically determined to be of type PDB\n",
            "core.io.pose_from_sfr.PoseFromSFRBuilder: [ WARNING ] discarding 12 atoms at position 121 in file /content/drive/MyDrive/nb_caffeine_mod_for_AFL/Inputs/aftNb_start.pdb. Best match rsd_type:  pdb_AFT\n",
            "core.conformation.Conformation: [ WARNING ] missing heavyatom:  OXT on residue VAL:CtermProteinFull 238\n"
          ]
        }
      ]
    },
    {
      "cell_type": "markdown",
      "source": [
        "Este código no tiene que ir aquí. Estaba en el cuaderno jupyter que te indiqué que debías consultar. Solo te sirve para que veas cómo se hace la estructura inicial del complejo Nb-AFL. Que ya he prepaarado yo. Te expliqué que de ese cuaderno jupyter tienes que implementar el código para hacer el High resolution Local Docking. Toda la parte de ligand y target preparation ya la hice yo."
      ],
      "metadata": {
        "id": "wZe9bDlmpNWa"
      }
    },
    {
      "cell_type": "code",
      "source": [
        "!apt-get update\n",
        "!apt-get install -y libarchive-dev\n",
        "from google.colab import files\n",
        "uploaded = files.upload()\n",
        "!apt-get install -y openbabel\n",
        "\n",
        "# Descargar Miniconda para Linux\n",
        "!wget https://repo.anaconda.com/miniconda/Miniconda3-latest-Linux-x86_64.sh -O miniconda.sh\n",
        "\n",
        "# Descargar Miniconda para macOS\n",
        "# !curl -O https://repo.anaconda.com/miniconda/Miniconda3-latest-MacOSX-x86_64.pkg\n",
        "\n",
        "# Descargar Miniconda para Windows\n",
        "# !curl -O https://repo.anaconda.com/miniconda/Miniconda3-latest-Windows-x86_64.exe\n",
        "\n",
        "# Hacer el script ejecutable para Linux\n",
        "!chmod +x miniconda.sh\n",
        "\n",
        "# Ejecutar el instalador de Miniconda para Linux\n",
        "!./miniconda.sh -b -p $HOME/miniconda3\n",
        "\n",
        "# Agregar Miniconda al PATH en Linux\n",
        "import os\n",
        "os.environ[\"PATH\"] += os.pathsep + os.path.join(os.getenv('HOME'), 'miniconda3', 'bin')\n",
        "\n",
        "# Actualizar Miniconda\n",
        "!conda update conda -y\n",
        "\n",
        "# Instalar Open Babel\n",
        "!conda install -c conda-forge openbabel -y\n",
        "\n",
        "# Instalar Jupyter Notebook\n",
        "!conda install -c conda-forge notebook -y\n",
        "\n",
        "# Verificar `conda`\n",
        "!conda --version\n",
        "\n",
        "# Verificar `obabel`\n",
        "!obabel -V\n",
        "\n",
        "# Verificar Jupyter Notebook\n",
        "!jupyter --version\n",
        "\n",
        "# Ejecutar Jupyter Notebook\n",
        "# !jupyter notebook\n",
        "\n",
        "!conda install -c conda-forge openbabel --yes\n",
        "!conda config --set solver classic\n",
        "\n",
        "!obabel aft.sdf -O aft_conformers.sdf --confab --conf 10 --original --verbose --ecutoff 5\n",
        "!obabel aft_conformers.sdf -O aft_conformers.pdb\n",
        "\n"
      ],
      "metadata": {
        "id": "-czdtgYRM3dI"
      },
      "execution_count": null,
      "outputs": []
    },
    {
      "cell_type": "markdown",
      "source": [],
      "metadata": {
        "id": "V7GqQr3LriQd"
      }
    },
    {
      "cell_type": "code",
      "source": [
        "ligand_parameters = path_params\n",
        "flags = f\"\"\"\n",
        "-extra_res_fa {ligand_parameters}\n",
        "-s path\n",
        "-ex1\n",
        "-ex2\n",
        "-no_optH false\n",
        "-ignore_ligand_chi true\n",
        "-overwrite\n",
        "-restore_pre_talaris_2013_behavior true\n",
        "\"\"\"\n",
        "pyrosetta.distributed.init(flags)"
      ],
      "metadata": {
        "id": "w4cfX5B64Wma"
      },
      "execution_count": null,
      "outputs": []
    },
    {
      "cell_type": "code",
      "source": [
        "pose = pyrosetta.io.pose_from_file(filename = path)"
      ],
      "metadata": {
        "colab": {
          "base_uri": "https://localhost:8080/"
        },
        "id": "ggmyC_G77_hc",
        "outputId": "46a12db3-898f-41a8-d9ea-09abd37588bf"
      },
      "execution_count": null,
      "outputs": [
        {
          "output_type": "stream",
          "name": "stdout",
          "text": [
            "core.import_pose.import_pose: File '/content/drive/MyDrive/nb_caffeine_mod_for_AFL/Inputs/aftNb_start.pdb' automatically determined to be of type PDB\n",
            "core.io.pose_from_sfr.PoseFromSFRBuilder: [ WARNING ] discarding 12 atoms at position 121 in file /content/drive/MyDrive/nb_caffeine_mod_for_AFL/Inputs/aftNb_start.pdb. Best match rsd_type:  pdb_AFT\n",
            "core.conformation.Conformation: [ WARNING ] missing heavyatom:  OXT on residue VAL:CtermProteinFull 238\n"
          ]
        }
      ]
    },
    {
      "cell_type": "code",
      "source": [
        "xml = pyrosetta.rosetta.protocols.rosetta_scripts.XmlObjects.create_from_string(\"\"\"\n",
        "<ROSETTASCRIPTS>\n",
        "\n",
        "\t\t<SCOREFXNS>\n",
        "\t\t\t<ScoreFunction name=\"ligand_soft_rep\" weights=\"ligand_soft_rep\">\n",
        "\t\t\t</ScoreFunction>\n",
        "\t\t\t<ScoreFunction name=\"hard_rep\" weights=\"ligand\">\n",
        "\t\t\t</ScoreFunction>\n",
        "\t\t</SCOREFXNS>\n",
        "\n",
        "\t\t<LIGAND_AREAS>\n",
        "\t\t\t<LigandArea name=\"inhibitor_dock_sc\" chain=\"X\" cutoff=\"6.0\" add_nbr_radius=\"true\" all_atom_mode=\"false\"/>\n",
        "\t\t\t<LigandArea name=\"inhibitor_final_sc\" chain=\"X\" cutoff=\"6.0\" add_nbr_radius=\"true\" all_atom_mode=\"false\"/>\n",
        "\t\t\t<LigandArea name=\"inhibitor_final_bb\" chain=\"X\" cutoff=\"7.0\" add_nbr_radius=\"false\" all_atom_mode=\"true\" Calpha_restraints=\"0.3\"/>\n",
        "\t\t</LIGAND_AREAS>\n",
        "\n",
        "\t\t<INTERFACE_BUILDERS>\n",
        "\t\t\t<InterfaceBuilder name=\"side_chain_for_docking\" ligand_areas=\"inhibitor_dock_sc\"/>\n",
        "\t\t\t<InterfaceBuilder name=\"side_chain_for_final\" ligand_areas=\"inhibitor_final_sc\"/>\n",
        "\t\t\t<InterfaceBuilder name=\"backbone\" ligand_areas=\"inhibitor_final_bb\" extension_window=\"3\"/>\n",
        "\t\t</INTERFACE_BUILDERS>\n",
        "\n",
        "\t\t<MOVEMAP_BUILDERS>\n",
        "\t\t\t<MoveMapBuilder name=\"docking\" sc_interface=\"side_chain_for_docking\" minimize_water=\"false\"/>\n",
        "\t\t\t<MoveMapBuilder name=\"final\" sc_interface=\"side_chain_for_final\" bb_interface=\"backbone\" minimize_water=\"false\"/>\n",
        "\t\t</MOVEMAP_BUILDERS>\n",
        "\n",
        "\t\t<SCORINGGRIDS ligand_chain=\"X\" width=\"15\">\n",
        "\t\t\t<ClassicGrid grid_name=\"classic\" weight=\"1.0\"/>\n",
        "\t\t</SCORINGGRIDS>\n",
        "\n",
        "\t\t<MOVERS>\n",
        "\t\t\t<Transform name=\"transform\" chain=\"X\" box_size=\"7.0\" move_distance=\"0.2\" angle=\"20\" cycles=\"30\" repeats=\"1\" temperature=\"5\"/>\n",
        "\t\t\t<HighResDocker name=\"high_res_docker\" cycles=\"6\" repack_every_Nth=\"3\" scorefxn=\"ligand_soft_rep\" movemap_builder=\"docking\"/>\n",
        "\t\t\t<FinalMinimizer name=\"final\" scorefxn=\"hard_rep\" movemap_builder=\"final\"/>\n",
        "\t\t\t<InterfaceScoreCalculator name=\"add_scores\" chains=\"X\" scorefxn=\"hard_rep\" native=\"aftNb_start.pdb\"/>\n",
        "\t\t</MOVERS>\n",
        "\n",
        "\t\t<PROTOCOLS>\n",
        "\t\t\t<Add mover_name=\"transform\"/>\n",
        "\t\t\t<Add mover_name=\"high_res_docker\"/>\n",
        "\t\t\t<Add mover_name=\"final\"/>\n",
        "\t\t\t<Add mover_name=\"add_scores\"/>\n",
        "\t\t</PROTOCOLS>\n",
        "\n",
        "\n",
        "</ROSETTASCRIPTS>\n",
        "\"\"\").get_mover(\"ParsedProtocol\")"
      ],
      "metadata": {
        "colab": {
          "base_uri": "https://localhost:8080/",
          "height": 1000
        },
        "id": "TfHzdmEM8p7k",
        "outputId": "1e804f3d-d81c-4199-a6c1-d18b61d91822"
      },
      "execution_count": null,
      "outputs": [
        {
          "output_type": "stream",
          "name": "stdout",
          "text": [
            "protocols.rosetta_scripts.RosettaScriptsParser: Validating input script...\n",
            "protocols.rosetta_scripts.RosettaScriptsSchemaValidator: Generating XML Schema for rosetta_scripts...\n",
            "protocols.rosetta_scripts.RosettaScriptsSchemaValidator: ...done\n",
            "protocols.rosetta_scripts.RosettaScriptsSchemaValidator: Initializing schema validator...\n",
            "protocols.rosetta_scripts.RosettaScriptsSchemaValidator: ...done\n",
            "protocols.rosetta_scripts.RosettaScriptsParser: ...done\n",
            "protocols.rosetta_scripts.RosettaScriptsParser: Parsed script:\n",
            "<ROSETTASCRIPTS>\n",
            "\t<SCOREFXNS>\n",
            "\t\t<ScoreFunction name=\"ligand_soft_rep\" weights=\"ligand_soft_rep\"/>\n",
            "\t\t<ScoreFunction name=\"hard_rep\" weights=\"ligand\"/>\n",
            "\t</SCOREFXNS>\n",
            "\t<LIGAND_AREAS>\n",
            "\t\t<LigandArea add_nbr_radius=\"true\" all_atom_mode=\"false\" chain=\"X\" cutoff=\"6.0\" name=\"inhibitor_dock_sc\"/>\n",
            "\t\t<LigandArea add_nbr_radius=\"true\" all_atom_mode=\"false\" chain=\"X\" cutoff=\"6.0\" name=\"inhibitor_final_sc\"/>\n",
            "\t\t<LigandArea Calpha_restraints=\"0.3\" add_nbr_radius=\"false\" all_atom_mode=\"true\" chain=\"X\" cutoff=\"7.0\" name=\"inhibitor_final_bb\"/>\n",
            "\t</LIGAND_AREAS>\n",
            "\t<INTERFACE_BUILDERS>\n",
            "\t\t<InterfaceBuilder ligand_areas=\"inhibitor_dock_sc\" name=\"side_chain_for_docking\"/>\n",
            "\t\t<InterfaceBuilder ligand_areas=\"inhibitor_final_sc\" name=\"side_chain_for_final\"/>\n",
            "\t\t<InterfaceBuilder extension_window=\"3\" ligand_areas=\"inhibitor_final_bb\" name=\"backbone\"/>\n",
            "\t</INTERFACE_BUILDERS>\n",
            "\t<MOVEMAP_BUILDERS>\n",
            "\t\t<MoveMapBuilder minimize_water=\"false\" name=\"docking\" sc_interface=\"side_chain_for_docking\"/>\n",
            "\t\t<MoveMapBuilder bb_interface=\"backbone\" minimize_water=\"false\" name=\"final\" sc_interface=\"side_chain_for_final\"/>\n",
            "\t</MOVEMAP_BUILDERS>\n",
            "\t<SCORINGGRIDS ligand_chain=\"X\" width=\"15\">\n",
            "\t\t<ClassicGrid grid_name=\"classic\" weight=\"1.0\"/>\n",
            "\t</SCORINGGRIDS>\n",
            "\t<MOVERS>\n",
            "\t\t<Transform angle=\"20\" box_size=\"7.0\" chain=\"X\" cycles=\"30\" move_distance=\"0.2\" name=\"transform\" repeats=\"1\" temperature=\"5\"/>\n",
            "\t\t<HighResDocker cycles=\"6\" movemap_builder=\"docking\" name=\"high_res_docker\" repack_every_Nth=\"3\" scorefxn=\"ligand_soft_rep\"/>\n",
            "\t\t<FinalMinimizer movemap_builder=\"final\" name=\"final\" scorefxn=\"hard_rep\"/>\n",
            "\t\t<InterfaceScoreCalculator chains=\"X\" name=\"add_scores\" native=\"aftNb_start.pdb\" scorefxn=\"hard_rep\"/>\n",
            "\t</MOVERS>\n",
            "\t<PROTOCOLS>\n",
            "\t\t<Add mover_name=\"transform\"/>\n",
            "\t\t<Add mover_name=\"high_res_docker\"/>\n",
            "\t\t<Add mover_name=\"final\"/>\n",
            "\t\t<Add mover_name=\"add_scores\"/>\n",
            "\t</PROTOCOLS>\n",
            "</ROSETTASCRIPTS>\n",
            "core.scoring.ScoreFunctionFactory: SCOREFUNCTION: ref2015\n",
            "core.scoring.etable: Starting energy table calculation\n",
            "core.scoring.etable: smooth_etable: changing atr/rep split to bottom of energy well\n",
            "core.scoring.etable: smooth_etable: spline smoothing lj etables (maxdis = 6)\n",
            "core.scoring.etable: smooth_etable: spline smoothing solvation etables (max_dis = 6)\n",
            "core.scoring.etable: Finished calculating energy tables.\n",
            "basic.io.database: Database file opened: scoring/score_functions/hbonds/ref2015_params/HBPoly1D.csv\n",
            "basic.io.database: Database file opened: scoring/score_functions/hbonds/ref2015_params/HBFadeIntervals.csv\n",
            "basic.io.database: Database file opened: scoring/score_functions/hbonds/ref2015_params/HBEval.csv\n",
            "basic.io.database: Database file opened: scoring/score_functions/hbonds/ref2015_params/DonStrength.csv\n",
            "basic.io.database: Database file opened: scoring/score_functions/hbonds/ref2015_params/AccStrength.csv\n",
            "basic.io.database: Database file opened: scoring/score_functions/rama/fd/all.ramaProb\n",
            "basic.io.database: Database file opened: scoring/score_functions/rama/fd/prepro.ramaProb\n",
            "basic.io.database: Database file opened: scoring/score_functions/omega/omega_ppdep.all.txt\n",
            "basic.io.database: Database file opened: scoring/score_functions/omega/omega_ppdep.gly.txt\n",
            "basic.io.database: Database file opened: scoring/score_functions/omega/omega_ppdep.pro.txt\n",
            "basic.io.database: Database file opened: scoring/score_functions/omega/omega_ppdep.valile.txt\n",
            "basic.io.database: Database file opened: scoring/score_functions/P_AA_pp/P_AA\n",
            "basic.io.database: Database file opened: scoring/score_functions/P_AA_pp/P_AA_n\n",
            "core.scoring.P_AA: shapovalov_lib::shap_p_aa_pp_smooth_level of 1( aka low_smooth ) got activated.\n",
            "basic.io.database: Database file opened: scoring/score_functions/P_AA_pp/shapovalov/10deg/kappa131/a20.prop\n",
            "core.scoring.etable: Starting energy table calculation\n",
            "core.scoring.etable: smooth_etable: changing atr/rep split to bottom of energy well\n",
            "core.scoring.etable: smooth_etable: spline smoothing lj etables (maxdis = 6)\n",
            "core.scoring.etable: smooth_etable: spline smoothing solvation etables (max_dis = 6)\n",
            "core.scoring.etable: Finished calculating energy tables.\n",
            "basic.io.database: Database file opened: scoring/score_functions/PairEPotential/pdb_pair_stats_fine\n",
            "basic.io.database: Database file opened: scoring/score_functions/InterchainPotential/interchain_env_log.txt\n",
            "basic.io.database: Database file opened: scoring/score_functions/InterchainPotential/interchain_pair_log.txt\n",
            "basic.io.database: Database file opened: scoring/score_functions/EnvPairPotential/env_log.txt\n",
            "basic.io.database: Database file opened: scoring/score_functions/EnvPairPotential/cbeta_den.txt\n",
            "basic.io.database: Database file opened: scoring/score_functions/EnvPairPotential/pair_log.txt\n",
            "basic.io.database: Database file opened: scoring/score_functions/EnvPairPotential/cenpack_log.txt\n",
            "core.scoring.ramachandran: shapovalov_lib::shap_rama_smooth_level of 4( aka highest_smooth ) got activated.\n",
            "basic.io.database: Database file opened: scoring/score_functions/rama/shapovalov/kappa25/all.ramaProb\n",
            "protocols.jd2.parser.ScoreFunctionLoader: defined score function \"ligand_soft_rep\" with weights \"ligand_soft_rep\"\n",
            "protocols.jd2.parser.ScoreFunctionLoader: defined score function \"hard_rep\" with weights \"ligand\"\n",
            "protocols.rosetta_scripts.RosettaScriptsParser: Defined mover named \"transform\" of type Transform\n",
            "protocols.ligand_docking.ligand_options.Protocol: Initializing options:\n",
            "protocols.ligand_docking.ligand_options.Protocol: allow_minimization_: 1\n",
            "protocols.ligand_docking.ligand_options.Protocol: allow_repacking_: 1\n",
            "protocols.ligand_docking.ligand_options.Protocol: all_residues_: 0\n",
            "protocols.rosetta_scripts.RosettaScriptsParser: Defined mover named \"high_res_docker\" of type HighResDocker\n",
            "protocols.rosetta_scripts.RosettaScriptsParser: Defined mover named \"final\" of type FinalMinimizer\n",
            "core.import_pose.import_pose: [ ERROR ] File: aftNb_start.pdb not found!\n",
            "protocols.rosetta_scripts.XmlObjects: \n",
            "\n",
            "File: /home/benchmark/rosetta/source/src/core/import_pose/import_pose.cc:361\n",
            "[ ERROR ] UtilityExitException\n",
            "ERROR: Cannot open file \"aftNb_start.pdb\"\n",
            "protocols.rosetta_scripts.XmlObjects: Error creating parsed protocol.\n"
          ]
        },
        {
          "output_type": "error",
          "ename": "RuntimeError",
          "evalue": "\n\nFile: /home/benchmark/rosetta/source/src/core/import_pose/import_pose.cc:361\n[ ERROR ] UtilityExitException\nERROR: Cannot open file \"aftNb_start.pdb\"\n\n",
          "traceback": [
            "\u001b[0;31m---------------------------------------------------------------------------\u001b[0m",
            "\u001b[0;31mRuntimeError\u001b[0m                              Traceback (most recent call last)",
            "\u001b[0;32m<ipython-input-18-73c5e4b0b717>\u001b[0m in \u001b[0;36m<cell line: 1>\u001b[0;34m()\u001b[0m\n\u001b[0;32m----> 1\u001b[0;31m xml = pyrosetta.rosetta.protocols.rosetta_scripts.XmlObjects.create_from_string(\"\"\"\n\u001b[0m\u001b[1;32m      2\u001b[0m \u001b[0;34m<\u001b[0m\u001b[0mROSETTASCRIPTS\u001b[0m\u001b[0;34m>\u001b[0m\u001b[0;34m\u001b[0m\u001b[0;34m\u001b[0m\u001b[0m\n\u001b[1;32m      3\u001b[0m \u001b[0;34m\u001b[0m\u001b[0m\n\u001b[1;32m      4\u001b[0m                 \u001b[0;34m<\u001b[0m\u001b[0mSCOREFXNS\u001b[0m\u001b[0;34m>\u001b[0m\u001b[0;34m\u001b[0m\u001b[0;34m\u001b[0m\u001b[0m\n\u001b[1;32m      5\u001b[0m                         \u001b[0;34m<\u001b[0m\u001b[0mScoreFunction\u001b[0m \u001b[0mname\u001b[0m\u001b[0;34m=\u001b[0m\u001b[0;34m\"ligand_soft_rep\"\u001b[0m \u001b[0mweights\u001b[0m\u001b[0;34m=\u001b[0m\u001b[0;34m\"ligand_soft_rep\"\u001b[0m\u001b[0;34m>\u001b[0m\u001b[0;34m\u001b[0m\u001b[0;34m\u001b[0m\u001b[0m\n",
            "\u001b[0;31mRuntimeError\u001b[0m: \n\nFile: /home/benchmark/rosetta/source/src/core/import_pose/import_pose.cc:361\n[ ERROR ] UtilityExitException\nERROR: Cannot open file \"aftNb_start.pdb\"\n\n"
          ]
        }
      ]
    }
  ]
}